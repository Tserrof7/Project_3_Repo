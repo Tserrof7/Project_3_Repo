{
 "cells": [
  {
   "cell_type": "code",
   "execution_count": 2,
   "metadata": {},
   "outputs": [],
   "source": [
    "import os \n",
    "import pandas as pd\n",
    "import json\n"
   ]
  },
  {
   "cell_type": "code",
   "execution_count": 3,
   "metadata": {},
   "outputs": [],
   "source": [
    "gamedata = pd.read_csv(\"archive\\games.csv\", index_col=False)\n",
    "revenuedata = pd.read_csv(\"archive\\Steam_2024_bestRevenue_1500.csv\", index_col=False)"
   ]
  },
  {
   "cell_type": "code",
   "execution_count": 34,
   "metadata": {},
   "outputs": [],
   "source": [
    "dfgames = pd.DataFrame(gamedata)\n",
    "\n",
    "dfrevenue = pd.DataFrame(revenuedata)\n",
    "dfrevenue.reset_index(drop=True,inplace=True)"
   ]
  },
  {
   "cell_type": "code",
   "execution_count": 43,
   "metadata": {},
   "outputs": [],
   "source": [
    "# NOT NULL CONSTRAINTS FOR GENERAL INFO TABLE\n",
    "dfgames[\"Name\"].fillna(\"No Name?\", inplace=True)\n",
    "dfgames[\"Tags\"].fillna(\"No Tag\", inplace=True)\n",
    "dfgames[\"Genres\"].fillna(\"No Genres\", inplace=True)\n",
    "dfgames[\"Categories\"].fillna(\"No Categories\", inplace=True)\n",
    "dfgames[\"Publishers\"].fillna(\"No Publisher\", inplace=True)\n",
    "dfgames[\"Developers\"].fillna(\"No Developer\", inplace=True)\n",
    "dfgames.head()\n",
    "\n",
    "# NOT NULL CONSTRAINTS FOR REVENUE TABLE\n",
    "dfrevenue[\"developers\"].fillna(\"No Developer\", inplace=True)\n",
    "dfrevenue[\"publishers\"].fillna(\"No Publisher\", inplace=True)\n",
    "dfrevenue[\"steamId\"].fillna(\"No steamId\", inplace=True)\n",
    "dfrevenue[\"avgPlaytime\"].fillna(\"No one plays this game\", inplace=True)\n",
    "dfrevenue[\"publisherClass\"].fillna(\"No Class\", inplace=True)\n",
    "dfrevenue[\"reviewScore\"].fillna(\"No Score\", inplace=True)\n",
    "dfclean = dfgames.drop(columns=[ 'Discount','DLC count', 'About the game','Supported languages', 'Full audio languages',\n",
    "                           'Reviews','Header image', 'Website', 'Support url', 'Support email', 'Windows',\n",
    "       'Mac', 'Linux','Metacritic url', 'Positive', 'Negative','Score rank','Achievements', 'Recommendations','Notes','Screenshots', 'Movies'])\n",
    "\n"
   ]
  },
  {
   "cell_type": "code",
   "execution_count": 44,
   "metadata": {},
   "outputs": [],
   "source": [
    "dfclean.to_csv(\"archive\\cleangames.csv\")\n",
    "dfrevenue.to_csv(\"archive\\cleanrevenue.csv\")"
   ]
  }
 ],
 "metadata": {
  "kernelspec": {
   "display_name": "PythonData_2024_12",
   "language": "python",
   "name": "python3"
  },
  "language_info": {
   "codemirror_mode": {
    "name": "ipython",
    "version": 3
   },
   "file_extension": ".py",
   "mimetype": "text/x-python",
   "name": "python",
   "nbconvert_exporter": "python",
   "pygments_lexer": "ipython3",
   "version": "3.10.16"
  }
 },
 "nbformat": 4,
 "nbformat_minor": 2
}
