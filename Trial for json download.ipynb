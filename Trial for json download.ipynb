{
 "cells": [
  {
   "cell_type": "code",
   "execution_count": null,
   "metadata": {
    "vscode": {
     "languageId": "plaintext"
    }
   },
   "outputs": [],
   "source": []
  },
  {
   "cell_type": "markdown",
   "metadata": {},
   "source": [
    "import psycopg2\n",
    "import json\n",
    "\n",
    "# Database credentials\n",
    "db_host = \"localhost\"\n",
    "db_name = \"your_database\"\n",
    "db_user = \"your_user\"\n",
    "db_password = \"your_password\"\n",
    "db_port = 5432\n",
    "\n",
    "# JSON file path\n",
    "json_file = \"games.json\"\n",
    "\n",
    "try:\n",
    "    # Connect to PostgreSQL\n",
    "    conn = psycopg2.connect(host=db_host, database=db_name, user=db_user, password=db_password, port=db_port)\n",
    "    cur = conn.cursor()\n",
    "\n",
    "    # Load JSON data from file\n",
    "    with open(json_file, 'r', encoding='utf-8') as f:\n",
    "        games_data = json.load(f)\n",
    "\n",
    "    # Iterate through the JSON data and insert into the table\n",
    "    for game_id, game_data in games_data.items():\n",
    "        try:\n",
    "            # Convert the Python dictionary to a JSON string and cast to JSONB\n",
    "            sql_insert = \"INSERT INTO steam_games (id, game_data) VALUES (%s, %s::JSONB)\"\n",
    "            cur.execute(sql_insert, (game_id, json.dumps(game_data)))  # Pass the JSON string as a tuple\n",
    "\n",
    "        except Exception as e:\n",
    "            print(f\"Error inserting game with ID: {game_id}. Error: {e}\")  # Print the game ID\n",
    "            conn.rollback() # Rollback the transaction if there's an error\n",
    "\n",
    "    # Commit the changes\n",
    "    conn.commit()\n",
    "    print(f\"Successfully inserted data into the database.\")\n",
    "\n",
    "except psycopg2.Error as e:\n",
    "    print(f\"Database error: {e}\")\n",
    "    if conn:\n",
    "        conn.rollback() # Rollback the transaction in case of a database error\n",
    "\n",
    "except FileNotFoundError:\n",
    "    print(f\"Error: File not found: {json_file}\")\n",
    "\n",
    "except json.JSONDecodeError as e:\n",
    "    print(f\"Error decoding JSON: {e}\")\n",
    "\n",
    "except Exception as e:\n",
    "    print(f\"An unexpected error occurred: {e}\")\n",
    "\n",
    "finally:\n",
    "    # Close connection\n",
    "    if conn:\n",
    "        cur.close()\n",
    "        conn.close()"
   ]
  }
 ],
 "metadata": {
  "language_info": {
   "name": "python"
  }
 },
 "nbformat": 4,
 "nbformat_minor": 2
}
